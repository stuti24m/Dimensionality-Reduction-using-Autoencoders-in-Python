{
  "nbformat": 4,
  "nbformat_minor": 0,
  "metadata": {
    "colab": {
      "name": "Dimensionality Reduction using an Autoencoder in Python.ipynb",
      "provenance": [],
      "collapsed_sections": [],
      "authorship_tag": "ABX9TyMpTdm1hF3A+kkChRQhg1Au",
      "include_colab_link": true
    },
    "kernelspec": {
      "name": "python3",
      "display_name": "Python 3"
    },
    "accelerator": "GPU"
  },
  "cells": [
    {
      "cell_type": "markdown",
      "metadata": {
        "id": "view-in-github",
        "colab_type": "text"
      },
      "source": [
        "<a href=\"https://colab.research.google.com/github/stuti24m/Dimensionality-Reduction-using-Autoencoders-in-Python/blob/master/Dimensionality_Reduction_using_an_Autoencoder_in_Python.ipynb\" target=\"_parent\"><img src=\"https://colab.research.google.com/assets/colab-badge.svg\" alt=\"Open In Colab\"/></a>"
      ]
    },
    {
      "cell_type": "code",
      "metadata": {
        "id": "DYAMeXybJwsX",
        "colab_type": "code",
        "colab": {
          "base_uri": "https://localhost:8080/",
          "height": 34
        },
        "outputId": "a3d34297-aa41-45cc-a9de-9b59816b2f6a"
      },
      "source": [
        "from keras.layers import Input,Dense\n",
        "from keras.models import Model\n",
        "from keras.datasets import mnist"
      ],
      "execution_count": 30,
      "outputs": [
        {
          "output_type": "stream",
          "text": [
            "Using TensorFlow backend.\n"
          ],
          "name": "stderr"
        }
      ]
    },
    {
      "cell_type": "code",
      "metadata": {
        "id": "xVHOLx52KNtI",
        "colab_type": "code",
        "colab": {}
      },
      "source": [
        "## size of encoded representation --- (we will reduce our initial features to this number)\n",
        "encoding_dim = 32  # 32 floats --> compressiong of factor 24.5, assuming the input is 784 floats\n"
      ],
      "execution_count": 0,
      "outputs": []
    },
    {
      "cell_type": "code",
      "metadata": {
        "id": "W1BJBAMxTykP",
        "colab_type": "code",
        "colab": {}
      },
      "source": [
        "## input placeholder \n",
        "input_img = Input(shape=(784,))"
      ],
      "execution_count": 0,
      "outputs": []
    },
    {
      "cell_type": "code",
      "metadata": {
        "id": "oL1Xl0TwKW7f",
        "colab_type": "code",
        "colab": {}
      },
      "source": [
        "## Defining the encoded layer\n",
        "encoded = Dense(encoding_dim, activation = 'relu')(input_img)\n"
      ],
      "execution_count": 0,
      "outputs": []
    },
    {
      "cell_type": "code",
      "metadata": {
        "id": "YndWkPchKbIm",
        "colab_type": "code",
        "colab": {}
      },
      "source": [
        "## \"decoded\" is the lossy representation of the input \n",
        "decoded = Dense(784, activation = 'sigmoid')(encoded)"
      ],
      "execution_count": 0,
      "outputs": []
    },
    {
      "cell_type": "code",
      "metadata": {
        "id": "qAQjOCPHKfNs",
        "colab_type": "code",
        "colab": {}
      },
      "source": [
        "## the model maps an input to its reconstruction\n",
        "autoencoder = Model(input_img,decoded)"
      ],
      "execution_count": 0,
      "outputs": []
    },
    {
      "cell_type": "code",
      "metadata": {
        "id": "s7vVjVrMKh61",
        "colab_type": "code",
        "colab": {}
      },
      "source": [
        "## the model maps an input to its encoded representation\n",
        "encoder = Model(input_img,encoded)"
      ],
      "execution_count": 0,
      "outputs": []
    },
    {
      "cell_type": "code",
      "metadata": {
        "id": "qV_roOgkKkYt",
        "colab_type": "code",
        "colab": {}
      },
      "source": [
        "## creating a placeholder for an encoded (32 dimensional) input\n",
        "encoded_input = Input(shape=(encoding_dim,))"
      ],
      "execution_count": 0,
      "outputs": []
    },
    {
      "cell_type": "code",
      "metadata": {
        "id": "RHb5pX6MKnaL",
        "colab_type": "code",
        "colab": {}
      },
      "source": [
        "## retrieve the last layer of autoencoder model\n",
        "decoder_layer = autoencoder.layers[-1]"
      ],
      "execution_count": 0,
      "outputs": []
    },
    {
      "cell_type": "code",
      "metadata": {
        "id": "o7xLy-bFKpZu",
        "colab_type": "code",
        "colab": {}
      },
      "source": [
        "## create the decoder model \n",
        "decoder = Model(encoded_input,decoder_layer(encoded_input))"
      ],
      "execution_count": 0,
      "outputs": []
    },
    {
      "cell_type": "code",
      "metadata": {
        "id": "CDOhbMSeKruH",
        "colab_type": "code",
        "colab": {}
      },
      "source": [
        "## configure the model to use a per pixel binary crossentropy loss, and the Adadelta optimizer\n",
        "autoencoder.compile(optimizer ='adadelta',loss = 'binary_crossentropy')"
      ],
      "execution_count": 0,
      "outputs": []
    },
    {
      "cell_type": "code",
      "metadata": {
        "id": "Exg2We-RKuV-",
        "colab_type": "code",
        "colab": {}
      },
      "source": [
        "## prepare the input data. Here we are using MNIST digits and we are discarding the labels\n",
        "(x_train, _), (x_test, _) = mnist.load_data()"
      ],
      "execution_count": 0,
      "outputs": []
    },
    {
      "cell_type": "code",
      "metadata": {
        "id": "FEg7LPA_KxB7",
        "colab_type": "code",
        "colab": {}
      },
      "source": [
        "## normalize all the data between 0 and 1 and we would flatten the image of 28*28 into vector size of 784.\n",
        "x_train = x_train.astype('float32')/255\n",
        "x_test = x_test.astype('float32')/255"
      ],
      "execution_count": 0,
      "outputs": []
    },
    {
      "cell_type": "code",
      "metadata": {
        "id": "bCcE8c9KK0Ya",
        "colab_type": "code",
        "colab": {}
      },
      "source": [
        "x_train = x_train.reshape((len(x_train),np.prod(x_train.shape[1:]))) \n",
        "x_test = x_test.reshape((len(x_test),np.prod(x_test.shape[1:]))) "
      ],
      "execution_count": 0,
      "outputs": []
    },
    {
      "cell_type": "code",
      "metadata": {
        "id": "8byGoa7PK50i",
        "colab_type": "code",
        "colab": {
          "base_uri": "https://localhost:8080/",
          "height": 51
        },
        "outputId": "10ae6514-4c3f-4281-bb6a-b7bdcbdbfaca"
      },
      "source": [
        "print(x_train.shape)\n",
        "print(x_test.shape)"
      ],
      "execution_count": 44,
      "outputs": [
        {
          "output_type": "stream",
          "text": [
            "(60000, 784)\n",
            "(10000, 784)\n"
          ],
          "name": "stdout"
        }
      ]
    },
    {
      "cell_type": "code",
      "metadata": {
        "id": "9x68Jtj9K8nu",
        "colab_type": "code",
        "colab": {
          "base_uri": "https://localhost:8080/",
          "height": 1000
        },
        "outputId": "31e688b9-c260-42a5-940f-91187cfc5121"
      },
      "source": [
        "## Training our Autoencoder\n",
        "autoencoder.fit(x_train, x_train, epochs = 100, batch_size = 256, shuffle = True, validation_data = (x_test, x_test))"
      ],
      "execution_count": 45,
      "outputs": [
        {
          "output_type": "stream",
          "text": [
            "Train on 60000 samples, validate on 10000 samples\n",
            "Epoch 1/100\n",
            "60000/60000 [==============================] - 1s 21us/step - loss: 0.3552 - val_loss: 0.2699\n",
            "Epoch 2/100\n",
            "60000/60000 [==============================] - 1s 18us/step - loss: 0.2615 - val_loss: 0.2496\n",
            "Epoch 3/100\n",
            "60000/60000 [==============================] - 1s 19us/step - loss: 0.2396 - val_loss: 0.2276\n",
            "Epoch 4/100\n",
            "60000/60000 [==============================] - 1s 20us/step - loss: 0.2202 - val_loss: 0.2104\n",
            "Epoch 5/100\n",
            "60000/60000 [==============================] - 1s 18us/step - loss: 0.2052 - val_loss: 0.1977\n",
            "Epoch 6/100\n",
            "60000/60000 [==============================] - 1s 19us/step - loss: 0.1944 - val_loss: 0.1885\n",
            "Epoch 7/100\n",
            "60000/60000 [==============================] - 1s 18us/step - loss: 0.1863 - val_loss: 0.1814\n",
            "Epoch 8/100\n",
            "60000/60000 [==============================] - 1s 19us/step - loss: 0.1797 - val_loss: 0.1753\n",
            "Epoch 9/100\n",
            "60000/60000 [==============================] - 1s 19us/step - loss: 0.1740 - val_loss: 0.1699\n",
            "Epoch 10/100\n",
            "60000/60000 [==============================] - 1s 20us/step - loss: 0.1689 - val_loss: 0.1652\n",
            "Epoch 11/100\n",
            "60000/60000 [==============================] - 1s 19us/step - loss: 0.1644 - val_loss: 0.1607\n",
            "Epoch 12/100\n",
            "60000/60000 [==============================] - 1s 19us/step - loss: 0.1602 - val_loss: 0.1567\n",
            "Epoch 13/100\n",
            "60000/60000 [==============================] - 1s 19us/step - loss: 0.1564 - val_loss: 0.1531\n",
            "Epoch 14/100\n",
            "60000/60000 [==============================] - 1s 18us/step - loss: 0.1529 - val_loss: 0.1498\n",
            "Epoch 15/100\n",
            "60000/60000 [==============================] - 1s 18us/step - loss: 0.1496 - val_loss: 0.1466\n",
            "Epoch 16/100\n",
            "60000/60000 [==============================] - 1s 19us/step - loss: 0.1467 - val_loss: 0.1438\n",
            "Epoch 17/100\n",
            "60000/60000 [==============================] - 1s 20us/step - loss: 0.1439 - val_loss: 0.1411\n",
            "Epoch 18/100\n",
            "60000/60000 [==============================] - 1s 19us/step - loss: 0.1413 - val_loss: 0.1386\n",
            "Epoch 19/100\n",
            "60000/60000 [==============================] - 1s 19us/step - loss: 0.1389 - val_loss: 0.1362\n",
            "Epoch 20/100\n",
            "60000/60000 [==============================] - 1s 19us/step - loss: 0.1366 - val_loss: 0.1339\n",
            "Epoch 21/100\n",
            "60000/60000 [==============================] - 1s 19us/step - loss: 0.1344 - val_loss: 0.1319\n",
            "Epoch 22/100\n",
            "60000/60000 [==============================] - 1s 18us/step - loss: 0.1323 - val_loss: 0.1298\n",
            "Epoch 23/100\n",
            "60000/60000 [==============================] - 1s 19us/step - loss: 0.1303 - val_loss: 0.1279\n",
            "Epoch 24/100\n",
            "60000/60000 [==============================] - 1s 18us/step - loss: 0.1284 - val_loss: 0.1260\n",
            "Epoch 25/100\n",
            "60000/60000 [==============================] - 1s 19us/step - loss: 0.1266 - val_loss: 0.1243\n",
            "Epoch 26/100\n",
            "60000/60000 [==============================] - 1s 19us/step - loss: 0.1249 - val_loss: 0.1226\n",
            "Epoch 27/100\n",
            "60000/60000 [==============================] - 1s 19us/step - loss: 0.1233 - val_loss: 0.1211\n",
            "Epoch 28/100\n",
            "60000/60000 [==============================] - 1s 19us/step - loss: 0.1218 - val_loss: 0.1195\n",
            "Epoch 29/100\n",
            "60000/60000 [==============================] - 1s 19us/step - loss: 0.1204 - val_loss: 0.1182\n",
            "Epoch 30/100\n",
            "60000/60000 [==============================] - 1s 18us/step - loss: 0.1190 - val_loss: 0.1168\n",
            "Epoch 31/100\n",
            "60000/60000 [==============================] - 1s 19us/step - loss: 0.1177 - val_loss: 0.1156\n",
            "Epoch 32/100\n",
            "60000/60000 [==============================] - 1s 18us/step - loss: 0.1165 - val_loss: 0.1145\n",
            "Epoch 33/100\n",
            "60000/60000 [==============================] - 1s 19us/step - loss: 0.1154 - val_loss: 0.1134\n",
            "Epoch 34/100\n",
            "60000/60000 [==============================] - 1s 19us/step - loss: 0.1144 - val_loss: 0.1123\n",
            "Epoch 35/100\n",
            "60000/60000 [==============================] - 1s 18us/step - loss: 0.1134 - val_loss: 0.1114\n",
            "Epoch 36/100\n",
            "60000/60000 [==============================] - 1s 19us/step - loss: 0.1124 - val_loss: 0.1105\n",
            "Epoch 37/100\n",
            "60000/60000 [==============================] - 1s 19us/step - loss: 0.1116 - val_loss: 0.1097\n",
            "Epoch 38/100\n",
            "60000/60000 [==============================] - 1s 19us/step - loss: 0.1108 - val_loss: 0.1089\n",
            "Epoch 39/100\n",
            "60000/60000 [==============================] - 1s 19us/step - loss: 0.1100 - val_loss: 0.1082\n",
            "Epoch 40/100\n",
            "60000/60000 [==============================] - 1s 20us/step - loss: 0.1093 - val_loss: 0.1075\n",
            "Epoch 41/100\n",
            "60000/60000 [==============================] - 1s 19us/step - loss: 0.1086 - val_loss: 0.1068\n",
            "Epoch 42/100\n",
            "60000/60000 [==============================] - 1s 18us/step - loss: 0.1080 - val_loss: 0.1062\n",
            "Epoch 43/100\n",
            "60000/60000 [==============================] - 1s 18us/step - loss: 0.1074 - val_loss: 0.1056\n",
            "Epoch 44/100\n",
            "60000/60000 [==============================] - 1s 19us/step - loss: 0.1069 - val_loss: 0.1051\n",
            "Epoch 45/100\n",
            "60000/60000 [==============================] - 1s 19us/step - loss: 0.1064 - val_loss: 0.1046\n",
            "Epoch 46/100\n",
            "60000/60000 [==============================] - 1s 18us/step - loss: 0.1059 - val_loss: 0.1041\n",
            "Epoch 47/100\n",
            "60000/60000 [==============================] - 1s 18us/step - loss: 0.1054 - val_loss: 0.1037\n",
            "Epoch 48/100\n",
            "60000/60000 [==============================] - 1s 20us/step - loss: 0.1050 - val_loss: 0.1033\n",
            "Epoch 49/100\n",
            "60000/60000 [==============================] - 1s 19us/step - loss: 0.1046 - val_loss: 0.1029\n",
            "Epoch 50/100\n",
            "60000/60000 [==============================] - 1s 19us/step - loss: 0.1042 - val_loss: 0.1025\n",
            "Epoch 51/100\n",
            "60000/60000 [==============================] - 1s 19us/step - loss: 0.1038 - val_loss: 0.1022\n",
            "Epoch 52/100\n",
            "60000/60000 [==============================] - 1s 18us/step - loss: 0.1035 - val_loss: 0.1018\n",
            "Epoch 53/100\n",
            "60000/60000 [==============================] - 1s 18us/step - loss: 0.1032 - val_loss: 0.1015\n",
            "Epoch 54/100\n",
            "60000/60000 [==============================] - 1s 19us/step - loss: 0.1029 - val_loss: 0.1012\n",
            "Epoch 55/100\n",
            "60000/60000 [==============================] - 1s 20us/step - loss: 0.1026 - val_loss: 0.1010\n",
            "Epoch 56/100\n",
            "60000/60000 [==============================] - 1s 20us/step - loss: 0.1023 - val_loss: 0.1007\n",
            "Epoch 57/100\n",
            "60000/60000 [==============================] - 1s 19us/step - loss: 0.1021 - val_loss: 0.1005\n",
            "Epoch 58/100\n",
            "60000/60000 [==============================] - 1s 18us/step - loss: 0.1018 - val_loss: 0.1002\n",
            "Epoch 59/100\n",
            "60000/60000 [==============================] - 1s 19us/step - loss: 0.1016 - val_loss: 0.1000\n",
            "Epoch 60/100\n",
            "60000/60000 [==============================] - 1s 19us/step - loss: 0.1014 - val_loss: 0.0998\n",
            "Epoch 61/100\n",
            "60000/60000 [==============================] - 1s 19us/step - loss: 0.1011 - val_loss: 0.0996\n",
            "Epoch 62/100\n",
            "60000/60000 [==============================] - 1s 19us/step - loss: 0.1009 - val_loss: 0.0994\n",
            "Epoch 63/100\n",
            "60000/60000 [==============================] - 1s 18us/step - loss: 0.1007 - val_loss: 0.0992\n",
            "Epoch 64/100\n",
            "60000/60000 [==============================] - 1s 19us/step - loss: 0.1006 - val_loss: 0.0990\n",
            "Epoch 65/100\n",
            "60000/60000 [==============================] - 1s 20us/step - loss: 0.1004 - val_loss: 0.0988\n",
            "Epoch 66/100\n",
            "60000/60000 [==============================] - 1s 18us/step - loss: 0.1002 - val_loss: 0.0987\n",
            "Epoch 67/100\n",
            "60000/60000 [==============================] - 1s 19us/step - loss: 0.1000 - val_loss: 0.0985\n",
            "Epoch 68/100\n",
            "60000/60000 [==============================] - 1s 20us/step - loss: 0.0999 - val_loss: 0.0984\n",
            "Epoch 69/100\n",
            "60000/60000 [==============================] - 1s 19us/step - loss: 0.0997 - val_loss: 0.0982\n",
            "Epoch 70/100\n",
            "60000/60000 [==============================] - 1s 19us/step - loss: 0.0996 - val_loss: 0.0981\n",
            "Epoch 71/100\n",
            "60000/60000 [==============================] - 1s 19us/step - loss: 0.0994 - val_loss: 0.0980\n",
            "Epoch 72/100\n",
            "60000/60000 [==============================] - 1s 19us/step - loss: 0.0993 - val_loss: 0.0978\n",
            "Epoch 73/100\n",
            "60000/60000 [==============================] - 1s 19us/step - loss: 0.0992 - val_loss: 0.0977\n",
            "Epoch 74/100\n",
            "60000/60000 [==============================] - 1s 20us/step - loss: 0.0991 - val_loss: 0.0976\n",
            "Epoch 75/100\n",
            "60000/60000 [==============================] - 1s 20us/step - loss: 0.0989 - val_loss: 0.0974\n",
            "Epoch 76/100\n",
            "60000/60000 [==============================] - 1s 19us/step - loss: 0.0988 - val_loss: 0.0974\n",
            "Epoch 77/100\n",
            "60000/60000 [==============================] - 1s 19us/step - loss: 0.0987 - val_loss: 0.0972\n",
            "Epoch 78/100\n",
            "60000/60000 [==============================] - 1s 20us/step - loss: 0.0986 - val_loss: 0.0971\n",
            "Epoch 79/100\n",
            "60000/60000 [==============================] - 1s 19us/step - loss: 0.0985 - val_loss: 0.0970\n",
            "Epoch 80/100\n",
            "60000/60000 [==============================] - 1s 19us/step - loss: 0.0984 - val_loss: 0.0969\n",
            "Epoch 81/100\n",
            "60000/60000 [==============================] - 1s 19us/step - loss: 0.0983 - val_loss: 0.0968\n",
            "Epoch 82/100\n",
            "60000/60000 [==============================] - 1s 20us/step - loss: 0.0982 - val_loss: 0.0968\n",
            "Epoch 83/100\n",
            "60000/60000 [==============================] - 1s 19us/step - loss: 0.0981 - val_loss: 0.0967\n",
            "Epoch 84/100\n",
            "60000/60000 [==============================] - 1s 18us/step - loss: 0.0980 - val_loss: 0.0966\n",
            "Epoch 85/100\n",
            "60000/60000 [==============================] - 1s 18us/step - loss: 0.0980 - val_loss: 0.0965\n",
            "Epoch 86/100\n",
            "60000/60000 [==============================] - 1s 19us/step - loss: 0.0979 - val_loss: 0.0965\n",
            "Epoch 87/100\n",
            "60000/60000 [==============================] - 1s 19us/step - loss: 0.0978 - val_loss: 0.0964\n",
            "Epoch 88/100\n",
            "60000/60000 [==============================] - 1s 19us/step - loss: 0.0977 - val_loss: 0.0963\n",
            "Epoch 89/100\n",
            "60000/60000 [==============================] - 1s 20us/step - loss: 0.0977 - val_loss: 0.0962\n",
            "Epoch 90/100\n",
            "60000/60000 [==============================] - 1s 20us/step - loss: 0.0976 - val_loss: 0.0962\n",
            "Epoch 91/100\n",
            "60000/60000 [==============================] - 1s 20us/step - loss: 0.0975 - val_loss: 0.0961\n",
            "Epoch 92/100\n",
            "60000/60000 [==============================] - 1s 19us/step - loss: 0.0975 - val_loss: 0.0961\n",
            "Epoch 93/100\n",
            "60000/60000 [==============================] - 1s 20us/step - loss: 0.0974 - val_loss: 0.0960\n",
            "Epoch 94/100\n",
            "60000/60000 [==============================] - 1s 19us/step - loss: 0.0974 - val_loss: 0.0960\n",
            "Epoch 95/100\n",
            "60000/60000 [==============================] - 1s 18us/step - loss: 0.0973 - val_loss: 0.0959\n",
            "Epoch 96/100\n",
            "60000/60000 [==============================] - 1s 20us/step - loss: 0.0972 - val_loss: 0.0958\n",
            "Epoch 97/100\n",
            "60000/60000 [==============================] - 1s 19us/step - loss: 0.0972 - val_loss: 0.0958\n",
            "Epoch 98/100\n",
            "60000/60000 [==============================] - 1s 19us/step - loss: 0.0971 - val_loss: 0.0957\n",
            "Epoch 99/100\n",
            "60000/60000 [==============================] - 1s 18us/step - loss: 0.0971 - val_loss: 0.0957\n",
            "Epoch 100/100\n",
            "60000/60000 [==============================] - 1s 18us/step - loss: 0.0970 - val_loss: 0.0956\n"
          ],
          "name": "stdout"
        },
        {
          "output_type": "execute_result",
          "data": {
            "text/plain": [
              "<keras.callbacks.callbacks.History at 0x7f05e34ddc50>"
            ]
          },
          "metadata": {
            "tags": []
          },
          "execution_count": 45
        }
      ]
    },
    {
      "cell_type": "code",
      "metadata": {
        "id": "wjA7B0irLDs-",
        "colab_type": "code",
        "colab": {}
      },
      "source": [
        "## encode and decode some digits\n",
        "## we take them from the test set\n",
        "\n",
        "encoded_imgs = encoder.predict(x_test)\n",
        "decoded_imgs = decoder.predict(encoded_imgs)\n",
        "\n",
        "\n"
      ],
      "execution_count": 0,
      "outputs": []
    },
    {
      "cell_type": "code",
      "metadata": {
        "id": "UVLHolbcLfMF",
        "colab_type": "code",
        "colab": {
          "base_uri": "https://localhost:8080/",
          "height": 200
        },
        "outputId": "3efcefa0-5f7e-454b-e4fc-2b00b80c7827"
      },
      "source": [
        "## Visualize the reconstructed inputs and the encoded representation using Matplotlib.\n",
        "\n",
        "n = 20                                ## number of digits you will display\n",
        "plt.figure(figsize=(20,4))\n",
        "for i in range(n):\n",
        "    # display the original\n",
        "    ax = plt.subplot(2, n, i+1)\n",
        "    plt.imshow(x_test[i].reshape(28,28))\n",
        "    plt.gray()\n",
        "    ax.get_xaxis().set_visible(False)\n",
        "    ax.get_yaxis().set_visible(False)\n",
        "    \n",
        "    # display reconstruction\n",
        "    ax = plt.subplot(2, n, i+1+n )\n",
        "    plt.imshow(decoded_imgs[i].reshape(28,28))\n",
        "    plt.gray()\n",
        "    ax.get_xaxis().set_visible(False)\n",
        "    ax.get_yaxis().set_visible(False)\n",
        "plt.show()"
      ],
      "execution_count": 47,
      "outputs": [
        {
          "output_type": "display_data",
          "data": {
            "image/png": "[encoded data removed]",
            "text/plain": [
              "<Figure size 1440x288 with 40 Axes>"
            ]
          },
          "metadata": {
            "tags": [],
            "needs_background": "light"
          }
        }
      ]
    },
    {
      "cell_type": "code",
      "metadata": {
        "id": "SzElLOOjUMd9",
        "colab_type": "code",
        "colab": {}
      },
      "source": [
        ""
      ],
      "execution_count": 0,
      "outputs": []
    }
  ]
}